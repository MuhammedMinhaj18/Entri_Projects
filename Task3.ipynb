{
  "nbformat": 4,
  "nbformat_minor": 0,
  "metadata": {
    "colab": {
      "provenance": []
    },
    "kernelspec": {
      "name": "python3",
      "display_name": "Python 3"
    },
    "language_info": {
      "name": "python"
    }
  },
  "cells": [
    {
      "cell_type": "markdown",
      "source": [
        "**1.  Write a Python program to create a class representing a Circle. Include methods to calculate its area and perimeter.**\n"
      ],
      "metadata": {
        "id": "SoHgATWMGwim"
      }
    },
    {
      "cell_type": "code",
      "execution_count": 7,
      "metadata": {
        "id": "GH8oG1K2OPuU",
        "colab": {
          "base_uri": "https://localhost:8080/"
        },
        "outputId": "a6936c2c-1b3d-432b-d78c-8737ee657bfb"
      },
      "outputs": [
        {
          "output_type": "stream",
          "name": "stdout",
          "text": [
            "The area of the circle is:  153.93804002589985\n",
            "The circumferance of the circle is:  43.982297150257104\n"
          ]
        }
      ],
      "source": [
        "import math as m\n",
        "\n",
        "class Circle:\n",
        "  def __init__(self,radius):\n",
        "    self.radius = radius\n",
        "\n",
        "  def area(self):\n",
        "    a = m.pi * self.radius**2\n",
        "    print('The area of the circle is: ',a)\n",
        "\n",
        "  def circumferance(self):\n",
        "    c = 2 * m.pi * self.radius\n",
        "    print('The circumferance of the circle is: ',c)\n",
        "\n",
        "#object1\n",
        "circle1 = Circle(7)\n",
        "\n",
        "circle1.area()\n",
        "circle1.circumferance()\n",
        "\n",
        ""
      ]
    },
    {
      "cell_type": "markdown",
      "source": [
        "**2. Write a Python program to create a calculator class. Include methods for basic arithmetic operations.**\n",
        "\n",
        "---\n",
        "\n",
        "\n"
      ],
      "metadata": {
        "id": "a8GS25USJjys"
      }
    },
    {
      "cell_type": "code",
      "source": [
        "class Calculator:\n",
        "  def add(self,x,y):\n",
        "    print('{} + {} = '.format(x,y),x+y)\n",
        "\n",
        "  def sub(self,x,y):\n",
        "    print('{} - {} = '.format(x,y),x-y)\n",
        "\n",
        "  def mul(self,x,y):\n",
        "    print('{} * {} = '.format(x,y),x*y)\n",
        "\n",
        "  def div(self,x,y):\n",
        "    print('{} / {} = '.format(x,y),x/y)\n",
        "\n",
        "  def square(self,x):\n",
        "    print('{}**2 = '.format(x),x**2)\n",
        "\n",
        "  def sroot(self,x):\n",
        "    print('{}**(1/2) = '.format(x),x**(1/2))\n",
        "\n",
        "\n",
        "#calculations\n",
        "calc1=Calculator()\n",
        "calc1.add(10,12)\n",
        "calc1.sub(10,12)\n",
        "calc1.mul(10,12)\n",
        "calc1.div(12,10)\n",
        "calc1.square(3)\n",
        "calc1.sroot(16)\n",
        "\n",
        ""
      ],
      "metadata": {
        "colab": {
          "base_uri": "https://localhost:8080/"
        },
        "id": "V7ff5ejkJpwL",
        "outputId": "5797b20d-e1a1-4f01-b0cc-04b7e78a7a5c"
      },
      "execution_count": 15,
      "outputs": [
        {
          "output_type": "stream",
          "name": "stdout",
          "text": [
            "10 + 12 =  22\n",
            "10 - 12 =  -2\n",
            "10 * 12 =  120\n",
            "12 / 10 =  1.2\n",
            "3**2 =  9\n",
            "16**(1/2) =  4.0\n"
          ]
        }
      ]
    },
    {
      "cell_type": "markdown",
      "source": [
        "**3. Write a Python program to create a class that represents a shape. Include methods to calculate its area and perimeter. Implement subclasses for different shapes like circle, triangle, and square.**"
      ],
      "metadata": {
        "id": "YO7hT0pyNVcG"
      }
    },
    {
      "cell_type": "code",
      "source": [
        "import math as m\n",
        "\n",
        "class Shape:\n",
        "\n",
        "    def calculate_area(self):\n",
        "        pass\n",
        "\n",
        "    def calculate_perimeter(self):\n",
        "        pass\n",
        "\n",
        "# Circle\n",
        "class Circle(Shape):\n",
        "\n",
        "    def __init__(self, radius):\n",
        "        self.radius = radius\n",
        "\n",
        "    def area(self):\n",
        "        a = m.pi * self.radius**2\n",
        "        print('The area of the circle with radius {} units = '.format(self.radius),a)\n",
        "\n",
        "    def circumferance(self):\n",
        "        c = 2 * m.pi * self.radius\n",
        "        print('The circumferance of the circle with radius {} units = '.format(self.radius),c)\n",
        "\n",
        "# Rectangle\n",
        "class Rectangle(Shape):\n",
        "\n",
        "    def __init__(self, length, width):\n",
        "        self.length = length\n",
        "        self.width = width\n",
        "\n",
        "    def area(self):\n",
        "        a = self.length * self.width\n",
        "        print('The area of the rectangle with length {} units and width {} units = '.format(self.length,self.width),a)\n",
        "\n",
        "    def perimeter(self):\n",
        "        p = 2 * (self.length + self.width)\n",
        "        print('The perimeter of the rectangle with length {} units and width {} units = '.format(self.length,self.width),p)\n",
        "\n",
        "# Triangle\n",
        "class Triangle(Shape):\n",
        "\n",
        "    def __init__(self, base, height, side1, side2, side3):\n",
        "        self.base = base\n",
        "        self.height = height\n",
        "        self.side1 = side1\n",
        "        self.side2 = side2\n",
        "        self.side3 = side3\n",
        "\n",
        "\n",
        "    def area(self):\n",
        "        a = 0.5 * self.base * self.height\n",
        "        print('The area of the triangle with base {} units and height {} units = '.format(self.base,self.height),a)\n",
        "\n",
        "    def perimeter(self):\n",
        "        p = self.side1 + self.side2 + self.side3\n",
        "        print('The perimeter of the triangle with sides {} units, {} units and {} units = '.format(self.side1,self.side2,self.side3),p)\n",
        "\n",
        "# Examples\n",
        "\n",
        "# Circle\n",
        "circle = Circle(14)\n",
        "circle.area()\n",
        "circle.circumferance()\n",
        "\n",
        "\n",
        "# Rectangle\n",
        "l = 5\n",
        "w = 7\n",
        "rectangle = Rectangle(8,12)\n",
        "rectangle.area()\n",
        "rectangle.perimeter()\n",
        "\n",
        "\n",
        "# Triangle\n",
        "triangle = Triangle(5,4,4,3,6)\n",
        "triangle.area()\n",
        "triangle.perimeter()"
      ],
      "metadata": {
        "colab": {
          "base_uri": "https://localhost:8080/"
        },
        "id": "YI7eAxDcNbDL",
        "outputId": "b5e5647f-29ce-441a-c2c2-eb753350462d"
      },
      "execution_count": 17,
      "outputs": [
        {
          "output_type": "stream",
          "name": "stdout",
          "text": [
            "The area of the circle with radius 14 units =  615.7521601035994\n",
            "The circumferance of the circle with radius 14 units =  87.96459430051421\n",
            "The area of the rectangle with length 8 units and width 12 units =  96\n",
            "The perimeter of the rectangle with length 8 units and width 12 units =  40\n",
            "The area of the triangle with base 5 units and height 4 units =  10.0\n",
            "The perimeter of the triangle with sides 4 units, 3 units and 6 units =  13\n"
          ]
        }
      ]
    }
  ]
}